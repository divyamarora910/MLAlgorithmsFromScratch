{
 "cells": [
  {
   "cell_type": "code",
   "execution_count": 1,
   "metadata": {
    "collapsed": true
   },
   "outputs": [],
   "source": [
    "import pandas as pd\n",
    "import numpy as np\n",
    "from sklearn import metrics\n",
    "from sklearn.model_selection import train_test_split\n",
    "#from sklearn.linear_model import LogisticRegression as LR"
   ]
  },
  {
   "cell_type": "code",
   "execution_count": 96,
   "metadata": {
    "collapsed": true
   },
   "outputs": [],
   "source": [
    "data=pd.read_csv(r\"C:\\Users\\divyam.arora\\Desktop\\New Folder 3\\machine-learning-specialization-master\\course-3\\datasets\\amazon_baby_subset.csv\",sep=',')"
   ]
  },
  {
   "cell_type": "code",
   "execution_count": 97,
   "metadata": {
    "collapsed": false
   },
   "outputs": [
    {
     "data": {
      "text/html": [
       "<div>\n",
       "<table border=\"1\" class=\"dataframe\">\n",
       "  <thead>\n",
       "    <tr style=\"text-align: right;\">\n",
       "      <th></th>\n",
       "      <th>name</th>\n",
       "      <th>review</th>\n",
       "      <th>rating</th>\n",
       "      <th>sentiment</th>\n",
       "    </tr>\n",
       "  </thead>\n",
       "  <tbody>\n",
       "    <tr>\n",
       "      <th>0</th>\n",
       "      <td>Stop Pacifier Sucking without tears with Thumb...</td>\n",
       "      <td>All of my kids have cried non-stop when I trie...</td>\n",
       "      <td>5</td>\n",
       "      <td>1</td>\n",
       "    </tr>\n",
       "    <tr>\n",
       "      <th>1</th>\n",
       "      <td>Nature's Lullabies Second Year Sticker Calendar</td>\n",
       "      <td>We wanted to get something to keep track of ou...</td>\n",
       "      <td>5</td>\n",
       "      <td>1</td>\n",
       "    </tr>\n",
       "    <tr>\n",
       "      <th>2</th>\n",
       "      <td>Nature's Lullabies Second Year Sticker Calendar</td>\n",
       "      <td>My daughter had her 1st baby over a year ago. ...</td>\n",
       "      <td>5</td>\n",
       "      <td>1</td>\n",
       "    </tr>\n",
       "    <tr>\n",
       "      <th>3</th>\n",
       "      <td>Lamaze Peekaboo, I Love You</td>\n",
       "      <td>One of baby's first and favorite books, and it...</td>\n",
       "      <td>4</td>\n",
       "      <td>1</td>\n",
       "    </tr>\n",
       "    <tr>\n",
       "      <th>4</th>\n",
       "      <td>SoftPlay Peek-A-Boo Where's Elmo A Children's ...</td>\n",
       "      <td>Very cute interactive book! My son loves this ...</td>\n",
       "      <td>5</td>\n",
       "      <td>1</td>\n",
       "    </tr>\n",
       "  </tbody>\n",
       "</table>\n",
       "</div>"
      ],
      "text/plain": [
       "                                                name  \\\n",
       "0  Stop Pacifier Sucking without tears with Thumb...   \n",
       "1    Nature's Lullabies Second Year Sticker Calendar   \n",
       "2    Nature's Lullabies Second Year Sticker Calendar   \n",
       "3                        Lamaze Peekaboo, I Love You   \n",
       "4  SoftPlay Peek-A-Boo Where's Elmo A Children's ...   \n",
       "\n",
       "                                              review  rating  sentiment  \n",
       "0  All of my kids have cried non-stop when I trie...       5          1  \n",
       "1  We wanted to get something to keep track of ou...       5          1  \n",
       "2  My daughter had her 1st baby over a year ago. ...       5          1  \n",
       "3  One of baby's first and favorite books, and it...       4          1  \n",
       "4  Very cute interactive book! My son loves this ...       5          1  "
      ]
     },
     "execution_count": 97,
     "metadata": {},
     "output_type": "execute_result"
    }
   ],
   "source": [
    "data.head()"
   ]
  },
  {
   "cell_type": "code",
   "execution_count": 98,
   "metadata": {
    "collapsed": false
   },
   "outputs": [
    {
     "data": {
      "text/plain": [
       " 1    26579\n",
       "-1    26493\n",
       "Name: sentiment, dtype: int64"
      ]
     },
     "execution_count": 98,
     "metadata": {},
     "output_type": "execute_result"
    }
   ],
   "source": [
    "data['sentiment'].value_counts()"
   ]
  },
  {
   "cell_type": "code",
   "execution_count": 99,
   "metadata": {
    "collapsed": true
   },
   "outputs": [],
   "source": [
    "import string\n",
    "data['review'].fillna(value='',inplace=True)"
   ]
  },
  {
   "cell_type": "code",
   "execution_count": 100,
   "metadata": {
    "collapsed": true
   },
   "outputs": [],
   "source": [
    "data['review']=data['review'].astype(str)\n",
    "def remove_punctuation(text):\n",
    "    return text.translate(str.maketrans('','',string.punctuation)) \n",
    "\n",
    "data['review_clean']=data['review'].apply(remove_punctuation)"
   ]
  },
  {
   "cell_type": "code",
   "execution_count": 101,
   "metadata": {
    "collapsed": true
   },
   "outputs": [],
   "source": [
    "important_words=[\"baby\", \"one\", \"great\", \"love\", \"use\", \"would\", \"like\", \"easy\", \"little\", \"seat\", \"old\", \"well\", \"get\", \"also\", \"really\", \"son\", \"time\", \"bought\", \"product\", \"good\", \"daughter\", \"much\", \"loves\", \"stroller\", \"put\", \"months\", \"car\", \"still\", \"back\", \"used\", \"recommend\", \"first\", \"even\", \"perfect\", \"nice\", \"bag\", \"two\", \"using\", \"got\", \"fit\", \"around\", \"diaper\", \"enough\", \"month\", \"price\", \"go\", \"could\", \"soft\", \"since\", \"buy\", \"room\", \"works\", \"made\", \"child\", \"keep\", \"size\", \"small\", \"need\", \"year\", \"big\", \"make\", \"take\", \"easily\", \"think\", \"crib\", \"clean\", \"way\", \"quality\", \"thing\", \"better\", \"without\", \"set\", \"new\", \"every\", \"cute\", \"best\", \"bottles\", \"work\", \"purchased\", \"right\", \"lot\", \"side\", \"happy\", \"comfortable\", \"toy\", \"able\", \"kids\", \"bit\", \"night\", \"long\", \"fits\", \"see\", \"us\", \"another\", \"play\", \"day\", \"money\", \"monitor\", \"tried\", \"thought\", \"never\", \"item\", \"hard\", \"plastic\", \"however\", \"disappointed\", \"reviews\", \"something\", \"going\", \"pump\", \"bottle\", \"cup\", \"waste\", \"return\", \"amazon\", \"different\", \"top\", \"want\", \"problem\", \"know\", \"water\", \"try\", \"received\", \"sure\", \"times\", \"chair\", \"find\", \"hold\", \"gate\", \"open\", \"bottom\", \"away\", \"actually\", \"cheap\", \"worked\", \"getting\", \"ordered\", \"came\", \"milk\", \"bad\", \"part\", \"worth\", \"found\", \"cover\", \"many\", \"design\", \"looking\", \"weeks\", \"say\", \"wanted\", \"look\", \"place\", \"purchase\", \"looks\", \"second\", \"piece\", \"box\", \"pretty\", \"trying\", \"difficult\", \"together\", \"though\", \"give\", \"started\", \"anything\", \"last\", \"company\", \"come\", \"returned\", \"maybe\", \"took\", \"broke\", \"makes\", \"stay\", \"instead\", \"idea\", \"head\", \"said\", \"less\", \"went\", \"working\", \"high\", \"unit\", \"seems\", \"picture\", \"completely\", \"wish\", \"buying\", \"babies\", \"won\", \"tub\", \"almost\", \"either\"]\n"
   ]
  },
  {
   "cell_type": "code",
   "execution_count": 102,
   "metadata": {
    "collapsed": true
   },
   "outputs": [],
   "source": [
    "for word in important_words:\n",
    "    data[word] = data['review_clean'].apply(lambda s : s.split().count(word))"
   ]
  },
  {
   "cell_type": "code",
   "execution_count": 103,
   "metadata": {
    "collapsed": false
   },
   "outputs": [
    {
     "data": {
      "text/plain": [
       "(53072, 198)"
      ]
     },
     "execution_count": 103,
     "metadata": {},
     "output_type": "execute_result"
    }
   ],
   "source": [
    "data.shape"
   ]
  },
  {
   "cell_type": "code",
   "execution_count": 104,
   "metadata": {
    "collapsed": true
   },
   "outputs": [],
   "source": [
    "features=data.columns.tolist()"
   ]
  },
  {
   "cell_type": "code",
   "execution_count": 105,
   "metadata": {
    "collapsed": false
   },
   "outputs": [],
   "source": [
    "features.remove('sentiment')"
   ]
  },
  {
   "cell_type": "code",
   "execution_count": 106,
   "metadata": {
    "collapsed": false
   },
   "outputs": [],
   "source": [
    "features.remove('name')\n",
    "features.remove('review')\n",
    "features.remove('rating')\n",
    "features.remove('review_clean')"
   ]
  },
  {
   "cell_type": "code",
   "execution_count": 108,
   "metadata": {
    "collapsed": false
   },
   "outputs": [],
   "source": [
    "label=data['sentiment']\n",
    "features=['constant'] + features\n",
    "data['constant'] = 1"
   ]
  },
  {
   "cell_type": "code",
   "execution_count": 109,
   "metadata": {
    "collapsed": false
   },
   "outputs": [],
   "source": [
    "train_data, validation_data,train_label,validation_label=train_test_split(data[features].as_matrix(),label.as_matrix(),test_size=0.2,random_state=3)"
   ]
  },
  {
   "cell_type": "code",
   "execution_count": 93,
   "metadata": {
    "collapsed": false
   },
   "outputs": [],
   "source": []
  },
  {
   "cell_type": "code",
   "execution_count": 94,
   "metadata": {
    "collapsed": true
   },
   "outputs": [],
   "source": []
  },
  {
   "cell_type": "code",
   "execution_count": null,
   "metadata": {
    "collapsed": true
   },
   "outputs": [],
   "source": []
  },
  {
   "cell_type": "code",
   "execution_count": 32,
   "metadata": {
    "collapsed": false
   },
   "outputs": [
    {
     "data": {
      "text/plain": [
       "2955"
      ]
     },
     "execution_count": 32,
     "metadata": {},
     "output_type": "execute_result"
    }
   ],
   "source": [
    "len(data[data['perfect']>0])"
   ]
  },
  {
   "cell_type": "code",
   "execution_count": 33,
   "metadata": {
    "collapsed": true
   },
   "outputs": [],
   "source": [
    "def get_numpy_data(dataframe, features, label):\n",
    "    dataframe['constant'] = 1\n",
    "    features = ['constant'] + features\n",
    "    features_frame = dataframe[features]\n",
    "    feature_matrix = features_frame.as_matrix()\n",
    "    label_sarray = dataframe[label]\n",
    "    label_array = label_sarray.as_matrix()\n",
    "    return(feature_matrix, label_array)"
   ]
  },
  {
   "cell_type": "code",
   "execution_count": 110,
   "metadata": {
    "collapsed": true
   },
   "outputs": [],
   "source": [
    "#link function for logistic regression\n",
    "def predict_probability(feature_matrix, coefficients):\n",
    "    # Take dot product of feature_matrix and coefficients  \n",
    "    # YOUR CODE HERE\n",
    "    score=np.dot(feature_matrix,coefficients)\n",
    "    \n",
    "    # Compute P(y_i = +1 | x_i, w) using the link function\n",
    "    # YOUR CODE HERE\n",
    "    predictions = 1/(1+np.exp(-score))\n",
    "    \n",
    "    # return predictions\n",
    "    return predictions"
   ]
  },
  {
   "cell_type": "code",
   "execution_count": 111,
   "metadata": {
    "collapsed": false
   },
   "outputs": [
    {
     "name": "stdout",
     "output_type": "stream",
     "text": [
      "The following outputs must match \n",
      "------------------------------------------------\n",
      "correct_predictions           = [ 0.98201379  0.26894142]\n",
      "output of predict_probability = [ 0.98201379  0.26894142]\n"
     ]
    }
   ],
   "source": [
    "dummy_feature_matrix = np.array([[1.,2.,3.], [1.,-1.,-1]])\n",
    "dummy_coefficients = np.array([1., 3., -1.])\n",
    "\n",
    "correct_scores      = np.array( [ 1.*1. + 2.*3. + 3.*(-1.),          1.*1. + (-1.)*3. + (-1.)*(-1.) ] )\n",
    "correct_predictions = np.array( [ 1./(1+np.exp(-correct_scores[0])), 1./(1+np.exp(-correct_scores[1])) ] )\n",
    "\n",
    "print('The following outputs must match ')\n",
    "print('------------------------------------------------')\n",
    "print('correct_predictions           =', correct_predictions)\n",
    "print('output of predict_probability =', predict_probability(dummy_feature_matrix, dummy_coefficients))"
   ]
  },
  {
   "cell_type": "code",
   "execution_count": 112,
   "metadata": {
    "collapsed": true
   },
   "outputs": [],
   "source": [
    "def feature_derivative(errors, feature):     \n",
    "    # Compute the dot product of errors and feature\n",
    "    value=np.dot(errors,feature)\n",
    "    derivative = np.sum(value)\n",
    "    \n",
    "    # Return the derivative\n",
    "    return derivative"
   ]
  },
  {
   "cell_type": "code",
   "execution_count": 113,
   "metadata": {
    "collapsed": true
   },
   "outputs": [],
   "source": [
    "#the above is noraml likelyhood function\n",
    "#but better is log likelyhood for numerical calculations\n",
    "def compute_log_likelihood(feature_matrix, sentiment, coefficients):\n",
    "        indicator = (sentiment==+1)\n",
    "    scores = np.dot(feature_matrix, coefficients)\n",
    "    logexp = np.log(1. + np.exp(-scores))\n",
    "    \n",
    "    # Simple check to prevent overflow\n",
    "    mask = np.isinf(logexp)\n",
    "    logexp[mask] = -scores[mask]\n",
    "    \n",
    "    lp = np.sum((indicator-1)*scores - logexp)\n",
    "    return lp"
   ]
  },
  {
   "cell_type": "code",
   "execution_count": 114,
   "metadata": {
    "collapsed": false
   },
   "outputs": [
    {
     "name": "stdout",
     "output_type": "stream",
     "text": [
      "The following outputs must match \n",
      "------------------------------------------------\n",
      "correct_log_likelihood           = -5.33141161544\n",
      "output of compute_log_likelihood = -5.33141161544\n"
     ]
    }
   ],
   "source": [
    "dummy_feature_matrix = np.array([[1.,2.,3.], [1.,-1.,-1]])\n",
    "dummy_coefficients = np.array([1., 3., -1.])\n",
    "dummy_sentiment = np.array([-1, 1])\n",
    "\n",
    "correct_indicators  = np.array( [ -1==+1,                                       1==+1 ] )\n",
    "correct_scores      = np.array( [ 1.*1. + 2.*3. + 3.*(-1.),                     1.*1. + (-1.)*3. + (-1.)*(-1.) ] )\n",
    "correct_first_term  = np.array( [ (correct_indicators[0]-1)*correct_scores[0],  (correct_indicators[1]-1)*correct_scores[1] ] )\n",
    "correct_second_term = np.array( [ np.log(1. + np.exp(-correct_scores[0])),      np.log(1. + np.exp(-correct_scores[1])) ] )\n",
    "\n",
    "correct_ll          =      sum( [ correct_first_term[0]-correct_second_term[0], correct_first_term[1]-correct_second_term[1] ] ) \n",
    "\n",
    "print('The following outputs must match ')\n",
    "print('------------------------------------------------')\n",
    "print('correct_log_likelihood           =', correct_ll)\n",
    "print('output of compute_log_likelihood =', compute_log_likelihood(dummy_feature_matrix, dummy_sentiment, dummy_coefficients))"
   ]
  },
  {
   "cell_type": "code",
   "execution_count": 115,
   "metadata": {
    "collapsed": false
   },
   "outputs": [],
   "source": [
    "#logistic regression\n",
    "from math import sqrt\n",
    "\n",
    "def logistic_regression(feature_matrix, sentiment, initial_coefficients, step_size, max_iter):\n",
    "    coefficients = np.array(initial_coefficients) # make sure it's a numpy array\n",
    "    for itr in range(max_iter):\n",
    "\n",
    "        # Predict P(y_i = +1|x_i,w) using your predict_probability() function\n",
    "        # YOUR CODE HERE\n",
    "        predictions = predict_probability(feature_matrix, coefficients)\n",
    "        \n",
    "        # Compute indicator value for (y_i = +1)\n",
    "        indicator = (sentiment==+1)\n",
    "        \n",
    "        # Compute the errors as indicator - predictions\n",
    "        errors = indicator - predictions\n",
    "        for j in range(len(coefficients)): # loop over each coefficient\n",
    "            \n",
    "            # Recall that feature_matrix[:,j] is the feature column associated with coefficients[j].\n",
    "            # Compute the derivative for coefficients[j]. Save it in a variable called derivative\n",
    "            # YOUR CODE HERE\n",
    "            derivative = feature_derivative(errors, feature_matrix[:,j])\n",
    "            \n",
    "            # add the step size times the derivative to the current coefficient\n",
    "            ## YOUR CODE HERE\n",
    "            coefficients[j]=coefficients[j]+(derivative*step_size)\n",
    "        \n",
    "        # Checking whether log likelihood is increasing\n",
    "        if itr <= 15 or (itr <= 100 and itr % 10 == 0) or (itr <= 1000 and itr % 100 == 0) \\\n",
    "        or (itr <= 10000 and itr % 1000 == 0) or itr % 10000 == 0:\n",
    "            lp = compute_log_likelihood(feature_matrix, sentiment, coefficients)\n",
    "            print('iteration %*d: log likelihood of observed labels = %.8f' % \\\n",
    "                (int(np.ceil(np.log10(max_iter))), itr, lp))\n",
    "    return coefficients"
   ]
  },
  {
   "cell_type": "code",
   "execution_count": 116,
   "metadata": {
    "collapsed": false
   },
   "outputs": [
    {
     "name": "stdout",
     "output_type": "stream",
     "text": [
      "iteration   0: log likelihood of observed labels = -29425.21708124\n",
      "iteration   1: log likelihood of observed labels = -29421.48773918\n",
      "iteration   2: log likelihood of observed labels = -29417.76180887\n",
      "iteration   3: log likelihood of observed labels = -29414.03928044\n",
      "iteration   4: log likelihood of observed labels = -29410.32014403\n",
      "iteration   5: log likelihood of observed labels = -29406.60438991\n",
      "iteration   6: log likelihood of observed labels = -29402.89200836\n",
      "iteration   7: log likelihood of observed labels = -29399.18298977\n",
      "iteration   8: log likelihood of observed labels = -29395.47732457\n",
      "iteration   9: log likelihood of observed labels = -29391.77500328\n",
      "iteration  10: log likelihood of observed labels = -29388.07601645\n",
      "iteration  11: log likelihood of observed labels = -29384.38035472\n",
      "iteration  12: log likelihood of observed labels = -29380.68800879\n",
      "iteration  13: log likelihood of observed labels = -29376.99896943\n",
      "iteration  14: log likelihood of observed labels = -29373.31322745\n",
      "iteration  15: log likelihood of observed labels = -29369.63077374\n",
      "iteration  20: log likelihood of observed labels = -29351.26751458\n",
      "iteration  30: log likelihood of observed labels = -29314.78254756\n",
      "iteration  40: log likelihood of observed labels = -29278.61267390\n",
      "iteration  50: log likelihood of observed labels = -29242.74999038\n",
      "iteration  60: log likelihood of observed labels = -29207.18708790\n",
      "iteration  70: log likelihood of observed labels = -29171.91701101\n",
      "iteration  80: log likelihood of observed labels = -29136.93322080\n",
      "iteration  90: log likelihood of observed labels = -29102.22956102\n",
      "iteration 100: log likelihood of observed labels = -29067.80022703\n",
      "iteration 200: log likelihood of observed labels = -28737.51904168\n",
      "iteration 300: log likelihood of observed labels = -28430.05718175\n"
     ]
    }
   ],
   "source": [
    "coefficients = logistic_regression(train_data, train_label, initial_coefficients=np.zeros(194),\n",
    "                                   step_size=1e-7, max_iter=301)"
   ]
  },
  {
   "cell_type": "code",
   "execution_count": 117,
   "metadata": {
    "collapsed": false
   },
   "outputs": [
    {
     "data": {
      "text/plain": [
       "(42457, 194)"
      ]
     },
     "execution_count": 117,
     "metadata": {},
     "output_type": "execute_result"
    }
   ],
   "source": [
    "train_data.shape"
   ]
  },
  {
   "cell_type": "code",
   "execution_count": 118,
   "metadata": {
    "collapsed": true
   },
   "outputs": [],
   "source": [
    "#now calculating class predictions from the scores\n",
    "scores = np.dot(train_data, coefficients)"
   ]
  },
  {
   "cell_type": "code",
   "execution_count": 119,
   "metadata": {
    "collapsed": false
   },
   "outputs": [],
   "source": [
    "output=[+1 if x > 0 else -1 for x in scores]"
   ]
  },
  {
   "cell_type": "code",
   "execution_count": 120,
   "metadata": {
    "collapsed": false
   },
   "outputs": [],
   "source": [
    "count=0\n",
    "count2=0\n",
    "for v in output:\n",
    "    if v>0:\n",
    "        count=count+1\n",
    "    else:\n",
    "        count2=count2+1\n",
    "    "
   ]
  },
  {
   "cell_type": "code",
   "execution_count": 121,
   "metadata": {
    "collapsed": false
   },
   "outputs": [
    {
     "name": "stdout",
     "output_type": "stream",
     "text": [
      "positive  19084  negative  23373\n"
     ]
    }
   ],
   "source": [
    "print('positive ',count,' negative ',count2)"
   ]
  },
  {
   "cell_type": "code",
   "execution_count": 122,
   "metadata": {
    "collapsed": false
   },
   "outputs": [
    {
     "name": "stdout",
     "output_type": "stream",
     "text": [
      "-----------------------------------------------------\n",
      "# Reviews   correctly classified = 31893\n",
      "# Reviews incorrectly classified = 10564\n",
      "# Reviews total                  = 42457\n",
      "-----------------------------------------------------\n",
      "Accuracy = 0.75\n"
     ]
    }
   ],
   "source": [
    "num_mistakes = np.sum(output!=train_label)\n",
    "accuracy = (len(train_data) - num_mistakes)/len(train_label)\n",
    "print(\"-----------------------------------------------------\")\n",
    "print('# Reviews   correctly classified =', len(train_data) - num_mistakes)\n",
    "print('# Reviews incorrectly classified =', num_mistakes)\n",
    "print('# Reviews total                  =', len(train_data))\n",
    "print(\"-----------------------------------------------------\")\n",
    "print('Accuracy = %.2f' % accuracy)"
   ]
  },
  {
   "cell_type": "code",
   "execution_count": 123,
   "metadata": {
    "collapsed": false
   },
   "outputs": [
    {
     "data": {
      "text/plain": [
       "10564"
      ]
     },
     "execution_count": 123,
     "metadata": {},
     "output_type": "execute_result"
    }
   ],
   "source": [
    "num_mistakes"
   ]
  },
  {
   "cell_type": "code",
   "execution_count": 124,
   "metadata": {
    "collapsed": false
   },
   "outputs": [
    {
     "data": {
      "text/plain": [
       "42457"
      ]
     },
     "execution_count": 124,
     "metadata": {},
     "output_type": "execute_result"
    }
   ],
   "source": [
    "len(train_label)"
   ]
  },
  {
   "cell_type": "code",
   "execution_count": 125,
   "metadata": {
    "collapsed": false
   },
   "outputs": [
    {
     "data": {
      "text/plain": [
       "194"
      ]
     },
     "execution_count": 125,
     "metadata": {},
     "output_type": "execute_result"
    }
   ],
   "source": [
    "len(coefficients)"
   ]
  },
  {
   "cell_type": "code",
   "execution_count": 126,
   "metadata": {
    "collapsed": true
   },
   "outputs": [],
   "source": [
    "#coefficients = list(coefficients[1:]) # exclude intercept\n",
    "word_coefficient_tuples = [(word, coefficient) for word, coefficient in zip(important_words, coefficients)]\n",
    "word_coefficient_tuples = sorted(word_coefficient_tuples, key=lambda x:x[1], reverse=True)"
   ]
  },
  {
   "cell_type": "code",
   "execution_count": 127,
   "metadata": {
    "collapsed": false
   },
   "outputs": [
    {
     "data": {
      "text/plain": [
       "[('use', 0.053424019750150077),\n",
       " ('love', 0.052025375371490108),\n",
       " ('little', 0.051570982457664866),\n",
       " ('stroller', 0.036217720043593207),\n",
       " ('seat', 0.036059310657732067),\n",
       " ('get', 0.0243718290206698),\n",
       " ('nice', 0.024253874608899322),\n",
       " ('well', 0.01612870682325495),\n",
       " ('bag', 0.0151341814052819),\n",
       " ('much', 0.014647285077178449),\n",
       " ('since', 0.013633254235782277),\n",
       " ('comfortable', 0.013630680843868334),\n",
       " ('see', 0.013221529156732335),\n",
       " ('first', 0.012882453647051999),\n",
       " ('bottles', 0.01194637558580978),\n",
       " ('one', 0.011169343796824105),\n",
       " ('really', 0.011095990351755399),\n",
       " ('toy', 0.01095022606499812),\n",
       " ('time', 0.010538278555450644),\n",
       " ('still', 0.01049079869372708),\n",
       " ('night', 0.0088694692513213002),\n",
       " ('made', 0.0088162493690133095),\n",
       " ('way', 0.008690670942880882),\n",
       " ('small', 0.0083515290463725116),\n",
       " ('put', 0.0080535244682797356),\n",
       " ('go', 0.0078140780410235339),\n",
       " ('works', 0.0077694657908520945),\n",
       " ('day', 0.0076495642113183649),\n",
       " ('bit', 0.0073099530008104846),\n",
       " ('think', 0.0064873493325962777),\n",
       " ('back', 0.0063848501122719618),\n",
       " ('clean', 0.0057363263263071227),\n",
       " ('side', 0.0056926783072718925),\n",
       " ('year', 0.0053108159850848305),\n",
       " ('size', 0.005149056748064847),\n",
       " ('big', 0.0050538427999023226),\n",
       " ('set', 0.0049621296288781327),\n",
       " ('diaper', 0.0047791361763236083),\n",
       " ('easily', 0.0043789932158695491),\n",
       " ('new', 0.004209181098359477),\n",
       " ('would', 0.0037910722887180034),\n",
       " ('best', 0.0036395700166119188),\n",
       " ('baby', 0.0033450090092723749),\n",
       " ('enough', 0.0033446126834249801),\n",
       " ('make', 0.0032633228589414227),\n",
       " ('buying', 0.0030600482064116522),\n",
       " ('long', 0.0029715918361604737),\n",
       " ('daughter', 0.0029680573160057355),\n",
       " ('two', 0.0029631493152873999),\n",
       " ('kids', 0.0024996735134960807),\n",
       " ('old', 0.0023931144901006944),\n",
       " ('cute', 0.0023884327008394531),\n",
       " ('give', 0.0023520242730918697),\n",
       " ('month', 0.0022592043858360748),\n",
       " ('picture', 0.0021699120356662299),\n",
       " ('stay', 0.0021381401980693211),\n",
       " ('won', 0.0019322921829016582),\n",
       " ('design', 0.0018690225446706208),\n",
       " ('trying', 0.0018662461591633013),\n",
       " ('able', 0.0016156900483146491),\n",
       " ('fits', 0.0014804847920755655),\n",
       " ('crib', 0.0011113211364701596),\n",
       " ('many', 0.0010796337415468471),\n",
       " ('another', 0.0010249514770637985),\n",
       " ('weeks', 0.00094316567629979919),\n",
       " ('buy', 0.00093600953118274071),\n",
       " ('looks', 0.00068890596948611191),\n",
       " ('son', 0.00043807260981439577),\n",
       " ('second', 0.00034312885405627161),\n",
       " ('work', 0.00029599376069840844),\n",
       " ('tub', 9.0901469315248653e-05),\n",
       " ('money', 3.5726288880977878e-05),\n",
       " ('months', -1.3377821907268266e-05),\n",
       " ('recommend', -3.4056073716538218e-05),\n",
       " ('cover', -0.00021858069252595055),\n",
       " ('got', -0.00025157589149764776),\n",
       " ('unit', -0.00065166171621373924),\n",
       " ('happy', -0.00087783304875910836),\n",
       " ('gate', -0.00088962981434204265),\n",
       " ('car', -0.0010044740667572547),\n",
       " ('find', -0.0010663703637319218),\n",
       " ('could', -0.0011270686470781352),\n",
       " ('either', -0.0014389806179448755),\n",
       " ('found', -0.0014785265894076579),\n",
       " ('times', -0.0015402241666089499),\n",
       " ('price', -0.0015882076320261507),\n",
       " ('place', -0.0018899761708815218),\n",
       " ('different', -0.0019050087357192697),\n",
       " ('said', -0.0020005125208951259),\n",
       " ('ordered', -0.0020691479641300678),\n",
       " ('hold', -0.0021411279062451753),\n",
       " ('piece', -0.0021868977197030993),\n",
       " ('returned', -0.0023354207103022349),\n",
       " ('though', -0.0025942647528155701),\n",
       " ('purchase', -0.0028963021416768108),\n",
       " ('need', -0.002928795489103552),\n",
       " ('wanted', -0.0030497518200768409),\n",
       " ('started', -0.003240425537270877),\n",
       " ('water', -0.0033739595565353457),\n",
       " ('problem', -0.0034126044723255802),\n",
       " ('look', -0.0034853384522379629),\n",
       " ('loves', -0.0035784440362488052),\n",
       " ('broke', -0.0037781639763389491),\n",
       " ('open', -0.0039755259792798531),\n",
       " ('went', -0.0039909620556833258),\n",
       " ('top', -0.0040122317370647259),\n",
       " ('right', -0.0040379751996474722),\n",
       " ('babies', -0.0041284238536129616),\n",
       " ('every', -0.0041657481908747062),\n",
       " ('milk', -0.0041935945997991064),\n",
       " ('easy', -0.0042090955485583111),\n",
       " ('us', -0.0043371226101702135),\n",
       " ('disappointed', -0.0045358996304684859),\n",
       " ('company', -0.0045416491813639473),\n",
       " ('anything', -0.0046703508478853654),\n",
       " ('took', -0.0047987907810705423),\n",
       " ('around', -0.0048613578664770205),\n",
       " ('keep', -0.0049166445764474631),\n",
       " ('take', -0.004944291046231503),\n",
       " ('less', -0.0050167979394702385),\n",
       " ('cheap', -0.0051052927529266498),\n",
       " ('lot', -0.0051259747704169266),\n",
       " ('almost', -0.0051927066874435613),\n",
       " ('idea', -0.005197050914642308),\n",
       " ('cup', -0.0052383203547834711),\n",
       " ('try', -0.0053219108873033627),\n",
       " ('working', -0.0053660925692861671),\n",
       " ('last', -0.0055535037363356092),\n",
       " ('thing', -0.0055585314590654517),\n",
       " ('came', -0.0056075620333243753),\n",
       " ('know', -0.0057056388555567885),\n",
       " ('want', -0.0057736255257180829),\n",
       " ('away', -0.0058580772734996159),\n",
       " ('say', -0.0059098392231831769),\n",
       " ('bottle', -0.0059364839272355073),\n",
       " ('worth', -0.005937425429124888),\n",
       " ('actually', -0.0060490229971233355),\n",
       " ('looking', -0.0062226203233291437),\n",
       " ('child', -0.0064830351450964573),\n",
       " ('completely', -0.0065000829667690475),\n",
       " ('chair', -0.006543703741217168),\n",
       " ('instead', -0.0069470857261125256),\n",
       " ('great', -0.007014149518729188),\n",
       " ('bottom', -0.0071884227296055243),\n",
       " ('waste', -0.007493320769707614),\n",
       " ('bad', -0.0077405302379738071),\n",
       " ('getting', -0.0079990778506509128),\n",
       " ('wish', -0.0080310284790723468),\n",
       " ('together', -0.0080501875102280337),\n",
       " ('using', -0.0080986491295314354),\n",
       " ('box', -0.0082879805993721061),\n",
       " ('difficult', -0.0082976367623237533),\n",
       " ('fit', -0.008703956597590953),\n",
       " ('pump', -0.0087233436624258795),\n",
       " ('pretty', -0.0087933878171482325),\n",
       " ('seems', -0.0088638738799073965),\n",
       " ('received', -0.0091961673518228954),\n",
       " ('play', -0.0093947351780488773),\n",
       " ('come', -0.0095457531018959974),\n",
       " ('high', -0.0096744129611415486),\n",
       " ('product', -0.010015919493167144),\n",
       " ('sure', -0.010149944085778195),\n",
       " ('head', -0.010167759116321241),\n",
       " ('item', -0.010376551551834564),\n",
       " ('part', -0.010804966690924424),\n",
       " ('going', -0.011190503170424932),\n",
       " ('even', -0.011205036205310052),\n",
       " ('plastic', -0.011477293008753746),\n",
       " ('worked', -0.011595098147901807),\n",
       " ('however', -0.011758890389973808),\n",
       " ('better', -0.011941668357884726),\n",
       " ('something', -0.012147748390077137),\n",
       " ('without', -0.012210416547559652),\n",
       " ('makes', -0.012678673172321088),\n",
       " ('maybe', -0.013151200318294139),\n",
       " ('hard', -0.013522211128281975),\n",
       " ('quality', -0.014736571422938442),\n",
       " ('room', -0.014859642801704742),\n",
       " ('bought', -0.014992758781518041),\n",
       " ('thought', -0.016099632355312265),\n",
       " ('soft', -0.016894108571499644),\n",
       " ('never', -0.017578498408212059),\n",
       " ('return', -0.019192921015834894),\n",
       " ('tried', -0.019788737273008488),\n",
       " ('amazon', -0.021182200912968751),\n",
       " ('used', -0.023146776358943893),\n",
       " ('reviews', -0.023443102837461999),\n",
       " ('also', -0.024451536487190586),\n",
       " ('perfect', -0.024474940607324785),\n",
       " ('purchased', -0.027908828826520075),\n",
       " ('monitor', -0.031285911024391225),\n",
       " ('good', -0.034519702640369437),\n",
       " ('like', -0.04617510475867706)]"
      ]
     },
     "execution_count": 127,
     "metadata": {},
     "output_type": "execute_result"
    }
   ],
   "source": [
    "word_coefficient_tuples"
   ]
  },
  {
   "cell_type": "code",
   "execution_count": 128,
   "metadata": {
    "collapsed": true
   },
   "outputs": [],
   "source": [
    "word_coefficient_tuples_2 = sorted(word_coefficient_tuples, key=lambda x:x[1], reverse=False)"
   ]
  },
  {
   "cell_type": "code",
   "execution_count": 90,
   "metadata": {
    "collapsed": false
   },
   "outputs": [
    {
     "data": {
      "text/plain": [
       "[('would', -0.046074379571151368),\n",
       " ('product', -0.034451264008009574),\n",
       " ('money', -0.031258669955707939),\n",
       " ('work', -0.027872463691569756),\n",
       " ('even', -0.024431167282367428),\n",
       " ('get', -0.024380859380652056),\n",
       " ('disappointed', -0.023428160808205905),\n",
       " ('back', -0.023102381747833904),\n",
       " ('return', -0.021169458551753655),\n",
       " ('monitor', -0.019765497458497167),\n",
       " ('waste', -0.019180742684257065),\n",
       " ('thought', -0.017557775957254957),\n",
       " ('could', -0.01686042964068676),\n",
       " ('tried', -0.016078369243923959),\n",
       " ('time', -0.014937110634026323),\n",
       " ('buy', -0.014827329720047815),\n",
       " ('way', -0.014707642942655074),\n",
       " ('item', -0.01350141349456362),\n",
       " ('returned', -0.01314295898029174),\n",
       " ('broke', -0.012670014102693526),\n",
       " ('better', -0.012182204843180175),\n",
       " ('reviews', -0.012128670841533466),\n",
       " ('thing', -0.011915203124079),\n",
       " ('plastic', -0.011739400961077449),\n",
       " ('cheap', -0.011584295114563603),\n",
       " ('hard', -0.011456234083391246),\n",
       " ('something', -0.01117032636945345),\n",
       " ('first', -0.011166968813312738),\n",
       " ('bad', -0.01079441561240274),\n",
       " ('never', -0.010356203397574412),\n",
       " ('idea', -0.010157976729951784),\n",
       " ('received', -0.010135466403566565),\n",
       " ('bought', -0.0099626471205660049),\n",
       " ('working', -0.0096654886603084415),\n",
       " ('company', -0.0095371428284505184),\n",
       " ('another', -0.0093746300603290943),\n",
       " ('try', -0.009181720190130329),\n",
       " ('unit', -0.0088562069416834432),\n",
       " ('box', -0.0087823443138250589),\n",
       " ('going', -0.0087040363532862371),\n",
       " ('got', -0.0086685721727187449),\n",
       " ('trying', -0.0082869163022385225),\n",
       " ('piece', -0.0082772383647835932),\n",
       " ('two', -0.0080657700455459818),\n",
       " ('difficult', -0.0080399046778941649),\n",
       " ('completely', -0.0080222965353635208),\n",
       " ('worked', -0.0079862807313804476),\n",
       " ('milk', -0.0077287591085380414),\n",
       " ('cup', -0.0074740047487920755),\n",
       " ('open', -0.0071745081236633387),\n",
       " ('stay', -0.006936549011076011),\n",
       " ('one', -0.0069024747162114942),\n",
       " ('times', -0.0065282658922073133),\n",
       " ('picture', -0.0064904252033852333),\n",
       " ('made', -0.0064529352592540704),\n",
       " ('design', -0.0062101142333821045),\n",
       " ('away', -0.0060356892270298033),\n",
       " ('part', -0.0059241314633171217),\n",
       " ('pump', -0.0059190950832625931),\n",
       " ('weeks', -0.005897173566380553),\n",
       " ('either', -0.0058872193257335911),\n",
       " ('bottom', -0.0058452937669255271),\n",
       " ('top', -0.0057564136655579492),\n",
       " ('problem', -0.0056894943502241438),\n",
       " ('ordered', -0.0055927787853446639),\n",
       " ('anything', -0.0055418857083627442),\n",
       " ('quality', -0.0055327081353380965),\n",
       " ('went', -0.0053557069496632968),\n",
       " ('water', -0.0053047109980489679),\n",
       " ('bottle', -0.0052175059253629806),\n",
       " ('instead', -0.005187143168159259),\n",
       " ('tub', -0.00518194870052894),\n",
       " ('right', -0.0051037683878108076),\n",
       " ('actually', -0.0050908331979489354),\n",
       " ('said', -0.005005835831112449),\n",
       " ('make', -0.0049188091263374124),\n",
       " ('child', -0.0048916451284689534),\n",
       " ('fit', -0.0048299779470715124),\n",
       " ('maybe', -0.0047926790926789342),\n",
       " ('started', -0.0046581106838198818),\n",
       " ('last', -0.0045303266394475829),\n",
       " ('however', -0.0045286318756934786),\n",
       " ('see', -0.0043174852934285525),\n",
       " ('came', -0.0041783158008451352),\n",
       " ('new', -0.0041414632909582945),\n",
       " ('like', -0.0041320971502351945),\n",
       " ('buying', -0.0041172713790822166),\n",
       " ('purchased', -0.0040150555191107934),\n",
       " ('different', -0.0039938172497751348),\n",
       " ('less', -0.0039799647785379181),\n",
       " ('gate', -0.0039590603224218387),\n",
       " ('took', -0.0037658437392070034),\n",
       " ('much', -0.0035317537773089463),\n",
       " ('wanted', -0.0034716226413188615),\n",
       " ('want', -0.0033945817073026663),\n",
       " ('know', -0.0033559656047526432),\n",
       " ('give', -0.0032274142178057592),\n",
       " ('say', -0.0030357842673057319),\n",
       " ('small', -0.0029027785843172399),\n",
       " ('place', -0.0028824567935839198),\n",
       " ('together', -0.0025806111733092767),\n",
       " ('come', -0.002321944822348937),\n",
       " ('second', -0.0021752011115658515),\n",
       " ('find', -0.0021235214533962174),\n",
       " ('getting', -0.0020536376430069715),\n",
       " ('head', -0.0019883840279683613),\n",
       " ('amazon', -0.0019022568036445311),\n",
       " ('look', -0.0018754977873258886),\n",
       " ('month', -0.0015610411573842035),\n",
       " ('sure', -0.0015229709421006802),\n",
       " ('worth', -0.0014618476907619449),\n",
       " ('almost', -0.001427190799608419),\n",
       " ('go', -0.0011026597946764342),\n",
       " ('chair', -0.0010489127163632467),\n",
       " ('months', -0.00096301229496668515),\n",
       " ('hold', -0.00087137830235891581),\n",
       " ('side', -0.00085893962402334187),\n",
       " ('high', -0.00063942600232043531),\n",
       " ('using', -0.00022131286484152295),\n",
       " ('found', -0.00020245916358645883),\n",
       " ('used', 3.6483887826579839e-06),\n",
       " ('put', 3.0177952009235908e-05),\n",
       " ('day', 5.2929419155558286e-05),\n",
       " ('won', 9.1034604250547543e-05),\n",
       " ('bottles', 0.00031939138639321731),\n",
       " ('looks', 0.00035885205057236975),\n",
       " ('really', 0.00048954913580332598),\n",
       " ('purchase', 0.00070475424601639566),\n",
       " ('since', 0.0009590915576908911),\n",
       " ('looking', 0.00095963572841144327),\n",
       " ('us', 0.0010408649099229745),\n",
       " ('cover', 0.0010956338963583744),\n",
       " ('think', 0.0011332222396364233),\n",
       " ('long', 0.0014980450015043196),\n",
       " ('toy', 0.0016359278132286263),\n",
       " ('pretty', 0.0018816671842789066),\n",
       " ('many', 0.0018850876790240164),\n",
       " ('babies', 0.0019440241424976371),\n",
       " ('makes', 0.0021530231719864919),\n",
       " ('seems', 0.0021832390847715509),\n",
       " ('enough', 0.0022866255468846019),\n",
       " ('though', 0.0023667214257187936),\n",
       " ('every', 0.0024069068959050853),\n",
       " ('seat', 0.0024506538236248937),\n",
       " ('able', 0.0025179555998563175),\n",
       " ('night', 0.0029874606378306112),\n",
       " ('bag', 0.0029933679543590278),\n",
       " ('good', 0.0030107974314064053),\n",
       " ('wish', 0.0030728965461013116),\n",
       " ('big', 0.0032844013202326535),\n",
       " ('diaper', 0.0033663529330629832),\n",
       " ('cute', 0.0036598090871231398),\n",
       " ('use', 0.003874668995752006),\n",
       " ('set', 0.004227491895929956),\n",
       " ('take', 0.0043998902488142661),\n",
       " ('around', 0.0048062848811173727),\n",
       " ('without', 0.004980934153285415),\n",
       " ('year', 0.0050758441567802393),\n",
       " ('keep', 0.0051734218135653679),\n",
       " ('need', 0.0053319223605332571),\n",
       " ('lot', 0.005709115322216963),\n",
       " ('crib', 0.0057578418053859),\n",
       " ('still', 0.0064186814964375949),\n",
       " ('easily', 0.0065062336445481849),\n",
       " ('kids', 0.0073244397008459606),\n",
       " ('play', 0.0076628337808692633),\n",
       " ('room', 0.0077908471035336895),\n",
       " ('price', 0.0078364410610600645),\n",
       " ('stroller', 0.008084048163792993),\n",
       " ('size', 0.0083739899750494423),\n",
       " ('clean', 0.0087090810489792482),\n",
       " ('works', 0.0088355558171583186),\n",
       " ('bit', 0.0088846334649815024),\n",
       " ('car', 0.010521228592336918),\n",
       " ('son', 0.010583970524058765),\n",
       " ('comfortable', 0.010963793660690809),\n",
       " ('also', 0.011134573941743773),\n",
       " ('baby', 0.011272214410960706),\n",
       " ('best', 0.011959468313139134),\n",
       " ('recommend', 0.012915708289346616),\n",
       " ('fits', 0.013233023487104973),\n",
       " ('happy', 0.013645543955799826),\n",
       " ('soft', 0.013653427591731446),\n",
       " ('daughter', 0.01468518607935443),\n",
       " ('nice', 0.015158173155665563),\n",
       " ('old', 0.016186194334600234),\n",
       " ('perfect', 0.024273323870095332),\n",
       " ('well', 0.024422552592118306),\n",
       " ('little', 0.036115205076548626),\n",
       " ('loves', 0.036243993592096548),\n",
       " ('easy', 0.051615989690086225),\n",
       " ('great', 0.052093581195042364),\n",
       " ('love', 0.053468793262093139)]"
      ]
     },
     "execution_count": 90,
     "metadata": {},
     "output_type": "execute_result"
    }
   ],
   "source": [
    "word_coefficient_tuples_2"
   ]
  },
  {
   "cell_type": "code",
   "execution_count": null,
   "metadata": {
    "collapsed": true
   },
   "outputs": [],
   "source": []
  }
 ],
 "metadata": {
  "kernelspec": {
   "display_name": "Python 3",
   "language": "python",
   "name": "python3"
  },
  "language_info": {
   "codemirror_mode": {
    "name": "ipython",
    "version": 3
   },
   "file_extension": ".py",
   "mimetype": "text/x-python",
   "name": "python",
   "nbconvert_exporter": "python",
   "pygments_lexer": "ipython3",
   "version": "3.6.6"
  }
 },
 "nbformat": 4,
 "nbformat_minor": 2
}
